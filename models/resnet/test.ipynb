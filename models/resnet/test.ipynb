{
 "cells": [
  {
   "cell_type": "code",
   "execution_count": 21,
   "id": "fb75f28c",
   "metadata": {},
   "outputs": [],
   "source": [
    "import torch\n",
    "import torch.nn as nn\n",
    "from torchvision import transforms, models\n",
    "import albumentations as A \n",
    "from albumentations.pytorch import ToTensorV2\n",
    "from PIL import Image\n",
    "import numpy"
   ]
  },
  {
   "cell_type": "code",
   "execution_count": 81,
   "id": "eab37024",
   "metadata": {},
   "outputs": [
    {
     "name": "stdout",
     "output_type": "stream",
     "text": [
      "torch.Size([1, 3, 35, 35])\n"
     ]
    }
   ],
   "source": [
    "device = torch.device(\"cuda:0\" if torch.cuda.is_available() else \"cpu\")\n",
    "model = torch.load('./models/resnet18_pretrained.pth')\n",
    "model.eval()\n",
    "img = Image.open(\"./datasetNew/test_data/cctvsign/signs- 101.jpg\")\n",
    "#img = Image.open(\"./datasetNew/test_data/other_2/0_11.jpg\")\n",
    "#img = Image.open(\"./datasetNew/camshot_meta_2022-01-11 094439.305733.jpg\")\n",
    "transform = A.Compose(\n",
    "    [\n",
    "        A.Resize(35,35),\n",
    "        A.Normalize(\n",
    "            mean=(0,0,0),\n",
    "            std =(1,1,1),\n",
    "            max_pixel_value=225,\n",
    "        p=1),\n",
    "        \n",
    "        ToTensorV2(),\n",
    "    ]\n",
    ")\n",
    "img = transform(image=numpy.array(img))['image'].to(device).unsqueeze(0)\n",
    "print(img.shape)"
   ]
  },
  {
   "cell_type": "code",
   "execution_count": 85,
   "id": "86b4d150",
   "metadata": {},
   "outputs": [],
   "source": [
    "def get_prediction(image, model):\n",
    "    with torch.no_grad():\n",
    "        output = model(image)\n",
    "        # the class with the highest energy is what we choose as prediction\n",
    "        _, predicted = torch.max(output.data, 1)\n",
    "        return predicted"
   ]
  },
  {
   "cell_type": "code",
   "execution_count": 86,
   "id": "b7276268",
   "metadata": {},
   "outputs": [
    {
     "name": "stdout",
     "output_type": "stream",
     "text": [
      "tensor([0])\n"
     ]
    }
   ],
   "source": [
    "print(get_prediction(img, model))"
   ]
  },
  {
   "cell_type": "code",
   "execution_count": 87,
   "id": "dc1d0c6b",
   "metadata": {},
   "outputs": [
    {
     "name": "stdout",
     "output_type": "stream",
     "text": [
      "CCTV sign detected\n"
     ]
    }
   ],
   "source": [
    "if get_prediction(img, model)[0].item() == 0:\n",
    "    print(\"CCTV sign detected\")\n",
    "else:\n",
    "    print(\"CCTV sign not detected\")"
   ]
  },
  {
   "cell_type": "code",
   "execution_count": null,
   "id": "83fbaf1e",
   "metadata": {},
   "outputs": [],
   "source": []
  }
 ],
 "metadata": {
  "kernelspec": {
   "display_name": "Python 3 (ipykernel)",
   "language": "python",
   "name": "python3"
  },
  "language_info": {
   "codemirror_mode": {
    "name": "ipython",
    "version": 3
   },
   "file_extension": ".py",
   "mimetype": "text/x-python",
   "name": "python",
   "nbconvert_exporter": "python",
   "pygments_lexer": "ipython3",
   "version": "3.8.12"
  }
 },
 "nbformat": 4,
 "nbformat_minor": 5
}
