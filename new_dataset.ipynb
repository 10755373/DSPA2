{
 "cells": [
  {
   "cell_type": "code",
   "execution_count": 7,
   "metadata": {},
   "outputs": [],
   "source": [
    "import numpy as np\n",
    "import os \n",
    "import shutil\n",
    "import re "
   ]
  },
  {
   "cell_type": "code",
   "execution_count": 20,
   "metadata": {},
   "outputs": [],
   "source": [
    "newpath = r'C:\\Users\\Invitado\\Documents\\Python\\DS_MASTER\\DSP\\dataset\\train_data\\other_2' \n",
    "\n",
    "if not os.path.exists(newpath):\n",
    "    os.makedirs(newpath)"
   ]
  },
  {
   "cell_type": "code",
   "execution_count": 21,
   "metadata": {},
   "outputs": [],
   "source": [
    "files = os.listdir(os.path.join(r'C:\\Users\\Invitado\\Documents\\Python\\DS_MASTER\\DSP\\dataset\\train_data\\other'))\n",
    "traffic = list(filter(lambda v: re.match(rf'^sign', v), files))\n",
    "files = [list(filter(lambda v: re.match(rf'.*_{x}.jpg', v), files))[0:100] for x in range(20)]\n",
    "files = sum(files,[])+traffic\n"
   ]
  },
  {
   "cell_type": "code",
   "execution_count": 22,
   "metadata": {},
   "outputs": [],
   "source": [
    "oldpath = r'C:\\Users\\Invitado\\Documents\\Python\\DS_MASTER\\DSP\\dataset\\train_data\\other' \n",
    "\n",
    "for x in files:\n",
    "    shutil.move(os.path.join(oldpath,x), os.path.join(newpath,x))"
   ]
  },
  {
   "cell_type": "code",
   "execution_count": 23,
   "metadata": {},
   "outputs": [],
   "source": [
    "newpath_1 = r'C:\\Users\\Invitado\\Documents\\Python\\DS_MASTER\\DSP\\dataset\\validation_data\\other_2' \n",
    "\n",
    "if not os.path.exists(newpath_1):\n",
    "    os.makedirs(newpath_1)"
   ]
  },
  {
   "cell_type": "code",
   "execution_count": 24,
   "metadata": {},
   "outputs": [],
   "source": [
    "files = os.listdir(os.path.join(r'C:\\Users\\Invitado\\Documents\\Python\\DS_MASTER\\DSP\\dataset\\validation_data\\other'))\n",
    "traffic = list(filter(lambda v: re.match(rf'^sign', v), files))\n",
    "files = [list(filter(lambda v: re.match(rf'.*_{x}.jpg', v), files))[0:100] for x in range(20)]\n",
    "files = sum(files,[])+traffic\n"
   ]
  },
  {
   "cell_type": "code",
   "execution_count": 25,
   "metadata": {},
   "outputs": [
    {
     "data": {
      "text/plain": [
       "2010"
      ]
     },
     "execution_count": 25,
     "metadata": {},
     "output_type": "execute_result"
    }
   ],
   "source": [
    "len(files)"
   ]
  },
  {
   "cell_type": "code",
   "execution_count": 26,
   "metadata": {},
   "outputs": [],
   "source": [
    "oldpath_1 = r'C:\\Users\\Invitado\\Documents\\Python\\DS_MASTER\\DSP\\dataset\\validation_data\\other' \n",
    "\n",
    "for x in files:\n",
    "    shutil.move(os.path.join(oldpath_1,x), os.path.join(newpath_1,x))"
   ]
  },
  {
   "cell_type": "code",
   "execution_count": null,
   "metadata": {},
   "outputs": [],
   "source": []
  }
 ],
 "metadata": {
  "interpreter": {
   "hash": "88a2f7f577888eb2710e0d5d9756c4025ff3188af31a1b3845b611b72892981c"
  },
  "kernelspec": {
   "display_name": "Python 3.8.5 64-bit ('base': conda)",
   "language": "python",
   "name": "python3"
  },
  "language_info": {
   "codemirror_mode": {
    "name": "ipython",
    "version": 3
   },
   "file_extension": ".py",
   "mimetype": "text/x-python",
   "name": "python",
   "nbconvert_exporter": "python",
   "pygments_lexer": "ipython3",
   "version": "3.8.5"
  },
  "orig_nbformat": 4
 },
 "nbformat": 4,
 "nbformat_minor": 2
}
